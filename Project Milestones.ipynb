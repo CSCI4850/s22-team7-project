{
 "cells": [
  {
   "cell_type": "markdown",
   "id": "83b850b8-8848-4998-85bc-0d6f9b127677",
   "metadata": {},
   "source": [
    "<b> Project Milestones - March 15 </b>\n",
    "<br>\n",
    "<br>\n",
    "<br>\n",
    "$$\n",
    "\\begin{aligned}\n",
    "&\\begin{array}{cccc}\n",
    "\\\\ \\\\\n",
    "\\textbf { Deliverable } & \\textbf { Percent Complete } & \\textbf { Estimated Completion Date } & \\textbf { Percent Complete  by  Next  Milestone } \\\\\n",
    "\\hline \\hline\n",
    "Code & 0\\% & Apr\\;14 & 100\\% \\\\\n",
    "Demo & 0\\% & May\\;1 & 100\\% \\\\\n",
    "Presentation & 0\\% & May\\;3 & 100\\% \n",
    "\\end{array}\n",
    "\\end{aligned}\n",
    "\\\\ \\\\\n",
    "$$\n",
    "<br>\n",
    "<br>\n",
    "<br>\n",
    "1. N/A\n",
    "\n",
    "2. N/A \n",
    "\n",
    "3. \n",
    "Collecting data based on the requirements of the project <br>\n",
    "Model training and results exploration including: <br>\n",
    "Establishing baselines for better results. <br>\n",
    "Adopting techniques and approaches from the existing models, research papers and code repositories. <br>\n",
    "Experiment tracking and management <br>\n",
    "Testing and evaluating your project before deployment <br>\n",
    "Team: <br>\n",
    "Movinuddin -  Code Development ( Neural Net Model, Intents Json File) <br>\n",
    "Ifeoma O - Collect DataSets <br>\n",
    "Monisri Punepalle - Code Development (Search Suitable Python libraries for chatbot)<br>\n",
    "Mary Guirguis - Collect DataSets <br>\n",
    "Yash Patel - Code Development (Test DataSet) <br>\n",
    "Sheeven jean - Research on chatbot implementation articles and prepare progress report<br>\n"
   ]
  },
  {
   "cell_type": "markdown",
   "id": "c61f8a1b-7235-42d7-bbe1-a424a606a12a",
   "metadata": {},
   "source": [
    "<b> Project Milestones - March 21 </b>\n",
    "<br>\n",
    "<br>\n",
    "<br>\n",
    "$$\n",
    "\\begin{aligned}\n",
    "&\\begin{array}{cccc}\n",
    "\\\\ \\\\\n",
    "\\textbf { Deliverable } & \\textbf { Percent Complete } & \\textbf { Estimated Completion Date } & \\textbf { Percent Complete  by  Next  Milestone } \\\\\n",
    "\\hline \\hline\n",
    "Code & 10\\% & Apr\\;22 & 25\\% \\\\\n",
    "Demo & 0\\% & May\\;1 & 0\\% \\\\\n",
    "Presentation & 0\\% & May\\;3 & 0\\% \n",
    "\\end{array}\n",
    "\\end{aligned}\n",
    "\\\\ \\\\\n",
    "$$\n",
    "<br>\n",
    "<br>\n",
    "<br>\n",
    "1. Worked on collecting dataset and started working on code development to some extent.\n",
    "\n",
    "2. None\n",
    "\n",
    "3. \n",
    "Continuing with the code development by performing dataset cleanup.\n",
    "Parallely continue explore on articles and collecting better datasets<br>\n",
    "Team: <br>\n",
    "Movinuddin -  Code Development ( Neural Net Model and Optimization) <br>\n",
    "Ifeoma O - Collect DataSets <br>\n",
    "Monisri Punepalle - Code Development (Perform data cleanup)<br>\n",
    "Mary Guirguis - Collect DataSets and conversation starters for chat bot <br>\n",
    "Yash Patel - Code Development (Perform data cleanup) <br>\n",
    "Sheeven jean - Research on chatbot implementation articles and prepare progress report<br>\n"
   ]
  },
  {
   "cell_type": "code",
   "execution_count": null,
   "id": "b12284dd-c401-4f80-bf18-da0165587892",
   "metadata": {},
   "outputs": [],
   "source": []
  }
 ],
 "metadata": {
  "kernelspec": {
   "display_name": "Python 3 (ipykernel)",
   "language": "python",
   "name": "python3"
  },
  "language_info": {
   "codemirror_mode": {
    "name": "ipython",
    "version": 3
   },
   "file_extension": ".py",
   "mimetype": "text/x-python",
   "name": "python",
   "nbconvert_exporter": "python",
   "pygments_lexer": "ipython3",
   "version": "3.9.7"
  }
 },
 "nbformat": 4,
 "nbformat_minor": 5
}
