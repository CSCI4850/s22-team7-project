{
 "cells": [
  {
   "cell_type": "markdown",
   "id": "83b850b8-8848-4998-85bc-0d6f9b127677",
   "metadata": {},
   "source": [
    "$$\n",
    "\\begin{aligned}\n",
    "& \\text {Project Milestones - March 15 }\\\\\n",
    "&\\begin{array}{cccc}\n",
    "\\\\ \\\\\n",
    "\\textbf { Deliverable } & \\textbf { Percent Complete } & \\textbf { Estimated Completion Date } & \\textbf { Percent Complete  by  Next  Milestone } \\\\\n",
    "\\hline \\hline\n",
    "Code & 0\\% & Apr\\;14 & 100\\% \\\\\n",
    "Demo & 0\\% & May\\;1 & 100\\% \\\\\n",
    "Presentation & 0\\% & May\\;3 & 100\\% \n",
    "\\end{array}\n",
    "\\end{aligned}\n",
    "\\\\ \\\\\n",
    "$$\n",
    "<br>\n",
    "<br>\n",
    "<br>\n",
    "1. N/A\n",
    "\n",
    "2. N/A \n",
    "\n",
    "3. \n",
    "Collecting data based on the requirements of the project <br>\n",
    "Model training and results exploration including: <br>\n",
    "Establishing baselines for better results. <br>\n",
    "Adopting techniques and approaches from the existing models, research papers and code repositories. <br>\n",
    "Experiment tracking and management <br>\n",
    "Testing and evaluating your project before deployment <br>\n",
    "Team: <br>\n",
    "Movinuddin -  Code Development () <br>\n",
    "Monisri Punepalle - Code Development (Search libraries for chatbot)<br>\n",
    "Yash Patel - <br>\n",
    "Ifeoma O - Collect DataSets <br>\n",
    "mary Guirguis - Collect DataSets <br>\n",
    "Sheeven jean - Research on chatbot implementation articles and prepare progress report<br>\n"
   ]
  },
  {
   "cell_type": "code",
   "execution_count": null,
   "id": "b1916f26-28e7-4ee3-84cd-e4410c15c769",
   "metadata": {},
   "outputs": [],
   "source": []
  }
 ],
 "metadata": {
  "kernelspec": {
   "display_name": "Python 3 (ipykernel)",
   "language": "python",
   "name": "python3"
  },
  "language_info": {
   "codemirror_mode": {
    "name": "ipython",
    "version": 3
   },
   "file_extension": ".py",
   "mimetype": "text/x-python",
   "name": "python",
   "nbconvert_exporter": "python",
   "pygments_lexer": "ipython3",
   "version": "3.9.7"
  }
 },
 "nbformat": 4,
 "nbformat_minor": 5
}
